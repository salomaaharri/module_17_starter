{
 "cells": [
  {
   "cell_type": "markdown",
   "metadata": {},
   "source": [
    "# Practical Application III: Comparing Classifiers\n",
    "\n",
    "**Overview**: In this practical application, your goal is to compare the performance of the classifiers we encountered in this section, namely K Nearest Neighbor, Logistic Regression, Decision Trees, and Support Vector Machines.  We will utilize a dataset related to marketing bank products over the telephone.  \n",
    "\n"
   ]
  },
  {
   "cell_type": "markdown",
   "metadata": {},
   "source": [
    "### Getting Started\n",
    "\n",
    "Our dataset comes from the UCI Machine Learning repository [link](https://archive.ics.uci.edu/ml/datasets/bank+marketing).  The data is from a Portugese banking institution and is a collection of the results of multiple marketing campaigns.  We will make use of the article accompanying the dataset [here](CRISP-DM-BANK.pdf) for more information on the data and features.\n",
    "\n"
   ]
  },
  {
   "cell_type": "markdown",
   "metadata": {},
   "source": [
    "### Problem 1: Understanding the Data\n",
    "\n",
    "To gain a better understanding of the data, please read the information provided in the UCI link above, and examine the **Materials and Methods** section of the paper.  How many marketing campaigns does this data represent?"
   ]
  },
  {
   "cell_type": "markdown",
   "metadata": {},
   "source": [
    "Answer: The data collected is related to 17 campaigns that occurred between May 2008 and November 2010, corresponding to a total of 79,354 contacts."
   ]
  },
  {
   "cell_type": "markdown",
   "metadata": {},
   "source": [
    "### Problem 2: Read in the Data\n",
    "\n",
    "Use pandas to read in the dataset `bank-additional-full.csv` and assign to a meaningful variable name."
   ]
  },
  {
   "cell_type": "code",
   "execution_count": 1,
   "metadata": {},
   "outputs": [],
   "source": [
    "import pandas as pd\n",
    "import numpy as np\n",
    "import seaborn as sns\n",
    "import matplotlib.pyplot as plt\n",
    "\n",
    "from sklearn.model_selection import train_test_split\n",
    "from sklearn.preprocessing import StandardScaler, LabelEncoder\n",
    "from sklearn.neighbors import KNeighborsClassifier\n",
    "from sklearn.linear_model import LogisticRegression\n",
    "from sklearn.tree import DecisionTreeClassifier\n",
    "from sklearn.svm import SVC\n",
    "from sklearn.metrics import classification_report, confusion_matrix, accuracy_score\n",
    "from sklearn.model_selection import train_test_split\n",
    "from sklearn.preprocessing import StandardScaler\n",
    "from sklearn.metrics import classification_report\n",
    "from sklearn.tree import DecisionTreeClassifier\n",
    "from sklearn.model_selection import GridSearchCV\n",
    "from sklearn.metrics import confusion_matrix\n",
    "\n",
    "\n",
    "\n",
    "\n",
    "import time\n"
   ]
  },
  {
   "cell_type": "code",
   "execution_count": 2,
   "metadata": {},
   "outputs": [],
   "source": [
    "df = pd.read_csv('data/bank-additional-full.csv', sep = ';')"
   ]
  },
  {
   "cell_type": "code",
   "execution_count": 3,
   "metadata": {},
   "outputs": [
    {
     "data": {
      "text/html": [
       "<div>\n",
       "<style scoped>\n",
       "    .dataframe tbody tr th:only-of-type {\n",
       "        vertical-align: middle;\n",
       "    }\n",
       "\n",
       "    .dataframe tbody tr th {\n",
       "        vertical-align: top;\n",
       "    }\n",
       "\n",
       "    .dataframe thead th {\n",
       "        text-align: right;\n",
       "    }\n",
       "</style>\n",
       "<table border=\"1\" class=\"dataframe\">\n",
       "  <thead>\n",
       "    <tr style=\"text-align: right;\">\n",
       "      <th></th>\n",
       "      <th>age</th>\n",
       "      <th>job</th>\n",
       "      <th>marital</th>\n",
       "      <th>education</th>\n",
       "      <th>default</th>\n",
       "      <th>housing</th>\n",
       "      <th>loan</th>\n",
       "      <th>contact</th>\n",
       "      <th>month</th>\n",
       "      <th>day_of_week</th>\n",
       "      <th>...</th>\n",
       "      <th>campaign</th>\n",
       "      <th>pdays</th>\n",
       "      <th>previous</th>\n",
       "      <th>poutcome</th>\n",
       "      <th>emp.var.rate</th>\n",
       "      <th>cons.price.idx</th>\n",
       "      <th>cons.conf.idx</th>\n",
       "      <th>euribor3m</th>\n",
       "      <th>nr.employed</th>\n",
       "      <th>y</th>\n",
       "    </tr>\n",
       "  </thead>\n",
       "  <tbody>\n",
       "    <tr>\n",
       "      <th>0</th>\n",
       "      <td>56</td>\n",
       "      <td>housemaid</td>\n",
       "      <td>married</td>\n",
       "      <td>basic.4y</td>\n",
       "      <td>no</td>\n",
       "      <td>no</td>\n",
       "      <td>no</td>\n",
       "      <td>telephone</td>\n",
       "      <td>may</td>\n",
       "      <td>mon</td>\n",
       "      <td>...</td>\n",
       "      <td>1</td>\n",
       "      <td>999</td>\n",
       "      <td>0</td>\n",
       "      <td>nonexistent</td>\n",
       "      <td>1.1</td>\n",
       "      <td>93.994</td>\n",
       "      <td>-36.4</td>\n",
       "      <td>4.857</td>\n",
       "      <td>5191.0</td>\n",
       "      <td>no</td>\n",
       "    </tr>\n",
       "    <tr>\n",
       "      <th>1</th>\n",
       "      <td>57</td>\n",
       "      <td>services</td>\n",
       "      <td>married</td>\n",
       "      <td>high.school</td>\n",
       "      <td>unknown</td>\n",
       "      <td>no</td>\n",
       "      <td>no</td>\n",
       "      <td>telephone</td>\n",
       "      <td>may</td>\n",
       "      <td>mon</td>\n",
       "      <td>...</td>\n",
       "      <td>1</td>\n",
       "      <td>999</td>\n",
       "      <td>0</td>\n",
       "      <td>nonexistent</td>\n",
       "      <td>1.1</td>\n",
       "      <td>93.994</td>\n",
       "      <td>-36.4</td>\n",
       "      <td>4.857</td>\n",
       "      <td>5191.0</td>\n",
       "      <td>no</td>\n",
       "    </tr>\n",
       "    <tr>\n",
       "      <th>2</th>\n",
       "      <td>37</td>\n",
       "      <td>services</td>\n",
       "      <td>married</td>\n",
       "      <td>high.school</td>\n",
       "      <td>no</td>\n",
       "      <td>yes</td>\n",
       "      <td>no</td>\n",
       "      <td>telephone</td>\n",
       "      <td>may</td>\n",
       "      <td>mon</td>\n",
       "      <td>...</td>\n",
       "      <td>1</td>\n",
       "      <td>999</td>\n",
       "      <td>0</td>\n",
       "      <td>nonexistent</td>\n",
       "      <td>1.1</td>\n",
       "      <td>93.994</td>\n",
       "      <td>-36.4</td>\n",
       "      <td>4.857</td>\n",
       "      <td>5191.0</td>\n",
       "      <td>no</td>\n",
       "    </tr>\n",
       "    <tr>\n",
       "      <th>3</th>\n",
       "      <td>40</td>\n",
       "      <td>admin.</td>\n",
       "      <td>married</td>\n",
       "      <td>basic.6y</td>\n",
       "      <td>no</td>\n",
       "      <td>no</td>\n",
       "      <td>no</td>\n",
       "      <td>telephone</td>\n",
       "      <td>may</td>\n",
       "      <td>mon</td>\n",
       "      <td>...</td>\n",
       "      <td>1</td>\n",
       "      <td>999</td>\n",
       "      <td>0</td>\n",
       "      <td>nonexistent</td>\n",
       "      <td>1.1</td>\n",
       "      <td>93.994</td>\n",
       "      <td>-36.4</td>\n",
       "      <td>4.857</td>\n",
       "      <td>5191.0</td>\n",
       "      <td>no</td>\n",
       "    </tr>\n",
       "    <tr>\n",
       "      <th>4</th>\n",
       "      <td>56</td>\n",
       "      <td>services</td>\n",
       "      <td>married</td>\n",
       "      <td>high.school</td>\n",
       "      <td>no</td>\n",
       "      <td>no</td>\n",
       "      <td>yes</td>\n",
       "      <td>telephone</td>\n",
       "      <td>may</td>\n",
       "      <td>mon</td>\n",
       "      <td>...</td>\n",
       "      <td>1</td>\n",
       "      <td>999</td>\n",
       "      <td>0</td>\n",
       "      <td>nonexistent</td>\n",
       "      <td>1.1</td>\n",
       "      <td>93.994</td>\n",
       "      <td>-36.4</td>\n",
       "      <td>4.857</td>\n",
       "      <td>5191.0</td>\n",
       "      <td>no</td>\n",
       "    </tr>\n",
       "  </tbody>\n",
       "</table>\n",
       "<p>5 rows × 21 columns</p>\n",
       "</div>"
      ],
      "text/plain": [
       "   age        job  marital    education  default housing loan    contact  \\\n",
       "0   56  housemaid  married     basic.4y       no      no   no  telephone   \n",
       "1   57   services  married  high.school  unknown      no   no  telephone   \n",
       "2   37   services  married  high.school       no     yes   no  telephone   \n",
       "3   40     admin.  married     basic.6y       no      no   no  telephone   \n",
       "4   56   services  married  high.school       no      no  yes  telephone   \n",
       "\n",
       "  month day_of_week  ...  campaign  pdays  previous     poutcome emp.var.rate  \\\n",
       "0   may         mon  ...         1    999         0  nonexistent          1.1   \n",
       "1   may         mon  ...         1    999         0  nonexistent          1.1   \n",
       "2   may         mon  ...         1    999         0  nonexistent          1.1   \n",
       "3   may         mon  ...         1    999         0  nonexistent          1.1   \n",
       "4   may         mon  ...         1    999         0  nonexistent          1.1   \n",
       "\n",
       "   cons.price.idx  cons.conf.idx  euribor3m  nr.employed   y  \n",
       "0          93.994          -36.4      4.857       5191.0  no  \n",
       "1          93.994          -36.4      4.857       5191.0  no  \n",
       "2          93.994          -36.4      4.857       5191.0  no  \n",
       "3          93.994          -36.4      4.857       5191.0  no  \n",
       "4          93.994          -36.4      4.857       5191.0  no  \n",
       "\n",
       "[5 rows x 21 columns]"
      ]
     },
     "execution_count": 3,
     "metadata": {},
     "output_type": "execute_result"
    }
   ],
   "source": [
    "df.head()"
   ]
  },
  {
   "cell_type": "code",
   "execution_count": 4,
   "metadata": {},
   "outputs": [
    {
     "name": "stdout",
     "output_type": "stream",
     "text": [
      "Missing values in each column:\n",
      " age               0\n",
      "job               0\n",
      "marital           0\n",
      "education         0\n",
      "default           0\n",
      "housing           0\n",
      "loan              0\n",
      "contact           0\n",
      "month             0\n",
      "day_of_week       0\n",
      "duration          0\n",
      "campaign          0\n",
      "pdays             0\n",
      "previous          0\n",
      "poutcome          0\n",
      "emp.var.rate      0\n",
      "cons.price.idx    0\n",
      "cons.conf.idx     0\n",
      "euribor3m         0\n",
      "nr.employed       0\n",
      "y                 0\n",
      "dtype: int64\n",
      "\n",
      "Data types of each column:\n",
      " age                 int64\n",
      "job                object\n",
      "marital            object\n",
      "education          object\n",
      "default            object\n",
      "housing            object\n",
      "loan               object\n",
      "contact            object\n",
      "month              object\n",
      "day_of_week        object\n",
      "duration            int64\n",
      "campaign            int64\n",
      "pdays               int64\n",
      "previous            int64\n",
      "poutcome           object\n",
      "emp.var.rate      float64\n",
      "cons.price.idx    float64\n",
      "cons.conf.idx     float64\n",
      "euribor3m         float64\n",
      "nr.employed       float64\n",
      "y                  object\n",
      "dtype: object\n"
     ]
    }
   ],
   "source": [
    "# Check for missing values\n",
    "missing_values = df.isnull().sum()\n",
    "\n",
    "# Check data types and look for columns that may need type coercion\n",
    "data_types = df.dtypes\n",
    "\n",
    "print(\"Missing values in each column:\\n\", missing_values)\n",
    "print(\"\\nData types of each column:\\n\", data_types)"
   ]
  },
  {
   "cell_type": "markdown",
   "metadata": {},
   "source": [
    "### Problem 3: Understanding the Features\n",
    "\n",
    "\n",
    "Examine the data description below, and determine if any of the features are missing values or need to be coerced to a different data type.\n",
    "\n",
    "\n",
    "```\n",
    "Input variables:\n",
    "# bank client data:\n",
    "1 - age (numeric)\n",
    "2 - job : type of job (categorical: 'admin.','blue-collar','entrepreneur','housemaid','management','retired','self-employed','services','student','technician','unemployed','unknown')\n",
    "3 - marital : marital status (categorical: 'divorced','married','single','unknown'; note: 'divorced' means divorced or widowed)\n",
    "4 - education (categorical: 'basic.4y','basic.6y','basic.9y','high.school','illiterate','professional.course','university.degree','unknown')\n",
    "5 - default: has credit in default? (categorical: 'no','yes','unknown')\n",
    "6 - housing: has housing loan? (categorical: 'no','yes','unknown')\n",
    "7 - loan: has personal loan? (categorical: 'no','yes','unknown')\n",
    "# related with the last contact of the current campaign:\n",
    "8 - contact: contact communication type (categorical: 'cellular','telephone')\n",
    "9 - month: last contact month of year (categorical: 'jan', 'feb', 'mar', ..., 'nov', 'dec')\n",
    "10 - day_of_week: last contact day of the week (categorical: 'mon','tue','wed','thu','fri')\n",
    "11 - duration: last contact duration, in seconds (numeric). Important note: this attribute highly affects the output target (e.g., if duration=0 then y='no'). Yet, the duration is not known before a call is performed. Also, after the end of the call y is obviously known. Thus, this input should only be included for benchmark purposes and should be discarded if the intention is to have a realistic predictive model.\n",
    "# other attributes:\n",
    "12 - campaign: number of contacts performed during this campaign and for this client (numeric, includes last contact)\n",
    "13 - pdays: number of days that passed by after the client was last contacted from a previous campaign (numeric; 999 means client was not previously contacted)\n",
    "14 - previous: number of contacts performed before this campaign and for this client (numeric)\n",
    "15 - poutcome: outcome of the previous marketing campaign (categorical: 'failure','nonexistent','success')\n",
    "# social and economic context attributes\n",
    "16 - emp.var.rate: employment variation rate - quarterly indicator (numeric)\n",
    "17 - cons.price.idx: consumer price index - monthly indicator (numeric)\n",
    "18 - cons.conf.idx: consumer confidence index - monthly indicator (numeric)\n",
    "19 - euribor3m: euribor 3 month rate - daily indicator (numeric)\n",
    "20 - nr.employed: number of employees - quarterly indicator (numeric)\n",
    "\n",
    "Output variable (desired target):\n",
    "21 - y - has the client subscribed a term deposit? (binary: 'yes','no')"
   ]
  },
  {
   "cell_type": "code",
   "execution_count": 5,
   "metadata": {},
   "outputs": [
    {
     "name": "stdout",
     "output_type": "stream",
     "text": [
      "\n",
      "Data types after encoding:\n",
      " age                                int64\n",
      "campaign                           int64\n",
      "pdays                              int64\n",
      "previous                           int64\n",
      "emp.var.rate                     float64\n",
      "cons.price.idx                   float64\n",
      "cons.conf.idx                    float64\n",
      "euribor3m                        float64\n",
      "nr.employed                      float64\n",
      "y                                  int64\n",
      "job_blue-collar                     bool\n",
      "job_entrepreneur                    bool\n",
      "job_housemaid                       bool\n",
      "job_management                      bool\n",
      "job_retired                         bool\n",
      "job_self-employed                   bool\n",
      "job_services                        bool\n",
      "job_student                         bool\n",
      "job_technician                      bool\n",
      "job_unemployed                      bool\n",
      "job_unknown                         bool\n",
      "marital_married                     bool\n",
      "marital_single                      bool\n",
      "marital_unknown                     bool\n",
      "education_basic.6y                  bool\n",
      "education_basic.9y                  bool\n",
      "education_high.school               bool\n",
      "education_illiterate                bool\n",
      "education_professional.course       bool\n",
      "education_university.degree         bool\n",
      "education_unknown                   bool\n",
      "default_unknown                     bool\n",
      "default_yes                         bool\n",
      "housing_unknown                     bool\n",
      "housing_yes                         bool\n",
      "loan_unknown                        bool\n",
      "loan_yes                            bool\n",
      "contact_telephone                   bool\n",
      "month_aug                           bool\n",
      "month_dec                           bool\n",
      "month_jul                           bool\n",
      "month_jun                           bool\n",
      "month_mar                           bool\n",
      "month_may                           bool\n",
      "month_nov                           bool\n",
      "month_oct                           bool\n",
      "month_sep                           bool\n",
      "day_of_week_mon                     bool\n",
      "day_of_week_thu                     bool\n",
      "day_of_week_tue                     bool\n",
      "day_of_week_wed                     bool\n",
      "poutcome_nonexistent                bool\n",
      "poutcome_success                    bool\n",
      "dtype: object\n"
     ]
    }
   ],
   "source": [
    "# Coerce the categorical features to type 'category'\n",
    "categorical_features = ['job', 'marital', 'education', 'default', 'housing', 'loan', 'contact', 'month', 'day_of_week', 'poutcome']\n",
    "df[categorical_features] = df[categorical_features].apply(lambda x: x.astype('category'))\n",
    "\n",
    "# If you intend to build a realistic predictive model, drop 'duration'\n",
    "df = df.drop('duration', axis=1)\n",
    "\n",
    "# Encode binary output variable 'y' to numeric\n",
    "df['y'] = df['y'].map({'yes': 1, 'no': 0})\n",
    "\n",
    "# One-hot encode the categorical variables\n",
    "df = pd.get_dummies(df, columns=categorical_features, drop_first=True)\n",
    "\n",
    "# Now all features should be numeric\n",
    "print(\"\\nData types after encoding:\\n\", df.dtypes)"
   ]
  },
  {
   "cell_type": "markdown",
   "metadata": {},
   "source": [
    "### Problem 4: Understanding the Task\n",
    "\n",
    "After examining the description and data, your goal now is to clearly state the *Business Objective* of the task.  State the objective below."
   ]
  },
  {
   "cell_type": "markdown",
   "metadata": {},
   "source": [
    "ANSWER:\n",
    "\n",
    "The business objective of this task is to increase the efficiency of directed marketing campaigns for long-term deposit subscriptions at a Portuguese banking institution by developing a predictive model that can accurately identify potential customers who are most likely to subscribe to a term deposit.\n",
    "\n",
    "This involves analyzing historical data from previous telephone marketing campaigns to understand the key factors that contribute to a successful subscription. The model aims to assist marketing managers in making informed decisions about whom to contact, thereby optimizing the allocation of resources such as human effort, time, and budget. The ultimate goal is to maintain or improve the success rate of these campaigns while reducing the number of contacts made, leading to cost-effective and targeted marketing strategies."
   ]
  },
  {
   "cell_type": "markdown",
   "metadata": {},
   "source": [
    "### Problem 5: Engineering Features\n",
    "\n",
    "Now that you understand your business objective, we will build a basic model to get started.  Before we can do this, we must work to encode the data.  Using just the bank information features (columns 1 - 7), prepare the features and target column for modeling with appropriate encoding and transformations."
   ]
  },
  {
   "cell_type": "code",
   "execution_count": 6,
   "metadata": {},
   "outputs": [
    {
     "name": "stdout",
     "output_type": "stream",
     "text": [
      "Index(['age', 'campaign', 'pdays', 'previous', 'emp.var.rate',\n",
      "       'cons.price.idx', 'cons.conf.idx', 'euribor3m', 'nr.employed', 'y',\n",
      "       'job_blue-collar', 'job_entrepreneur', 'job_housemaid',\n",
      "       'job_management', 'job_retired', 'job_self-employed', 'job_services',\n",
      "       'job_student', 'job_technician', 'job_unemployed', 'job_unknown',\n",
      "       'marital_married', 'marital_single', 'marital_unknown',\n",
      "       'education_basic.6y', 'education_basic.9y', 'education_high.school',\n",
      "       'education_illiterate', 'education_professional.course',\n",
      "       'education_university.degree', 'education_unknown', 'default_unknown',\n",
      "       'default_yes', 'housing_unknown', 'housing_yes', 'loan_unknown',\n",
      "       'loan_yes', 'contact_telephone', 'month_aug', 'month_dec', 'month_jul',\n",
      "       'month_jun', 'month_mar', 'month_may', 'month_nov', 'month_oct',\n",
      "       'month_sep', 'day_of_week_mon', 'day_of_week_thu', 'day_of_week_tue',\n",
      "       'day_of_week_wed', 'poutcome_nonexistent', 'poutcome_success'],\n",
      "      dtype='object')\n"
     ]
    }
   ],
   "source": [
    "print(df.columns)"
   ]
  },
  {
   "cell_type": "code",
   "execution_count": 7,
   "metadata": {},
   "outputs": [],
   "source": [
    "feature_columns = ['age', 'job_blue-collar', 'job_entrepreneur', 'job_housemaid', 'job_management', \n",
    "                   'job_retired', 'job_self-employed', 'job_services', 'job_student', 'job_technician', \n",
    "                   'job_unemployed', 'job_unknown', 'marital_married', 'marital_single', 'marital_unknown', \n",
    "                   'education_basic.6y', 'education_basic.9y', 'education_high.school', 'education_illiterate', \n",
    "                   'education_professional.course', 'education_university.degree', 'education_unknown', \n",
    "                   'default_unknown', 'default_yes', 'housing_unknown', 'housing_yes', 'loan_unknown', 'loan_yes']\n",
    "\n",
    "X = df[feature_columns].copy()  # Feature columns\n",
    "y = df['y']  # Target variable\n",
    "\n",
    "# Feature scaling for 'age'\n",
    "scaler = StandardScaler()\n",
    "X['age'] = scaler.fit_transform(X[['age']])\n",
    "\n",
    "# Now X_encoded is ready for modeling, and y is the target variable\n"
   ]
  },
  {
   "cell_type": "markdown",
   "metadata": {},
   "source": [
    "### Problem 6: Train/Test Split\n",
    "\n",
    "With your data prepared, split it into a train and test set."
   ]
  },
  {
   "cell_type": "code",
   "execution_count": 8,
   "metadata": {},
   "outputs": [],
   "source": [
    "# Splitting the data into train and test sets\n",
    "X_train, X_test, y_train, y_test = train_test_split(X, y, test_size=0.2, random_state=42)\n"
   ]
  },
  {
   "cell_type": "markdown",
   "metadata": {},
   "source": [
    "### Problem 7: A Baseline Model\n",
    "\n",
    "Before we build our first model, we want to establish a baseline.  What is the baseline performance that our classifier should aim to beat?"
   ]
  },
  {
   "cell_type": "code",
   "execution_count": 9,
   "metadata": {},
   "outputs": [
    {
     "name": "stdout",
     "output_type": "stream",
     "text": [
      "Baseline Accuracy: 0.89\n"
     ]
    }
   ],
   "source": [
    "# Determine the most frequent class in the training set\n",
    "most_frequent_class = y_train.mode()[0]\n",
    "\n",
    "# Calculate the baseline accuracy\n",
    "baseline_accuracy = (y_train == most_frequent_class).mean()\n",
    "\n",
    "print(f\"Baseline Accuracy: {baseline_accuracy:.2f}\")"
   ]
  },
  {
   "cell_type": "markdown",
   "metadata": {},
   "source": [
    "### Problem 8: A Simple Model\n",
    "\n",
    "Use Logistic Regression to build a basic model on your data.  "
   ]
  },
  {
   "cell_type": "code",
   "execution_count": 10,
   "metadata": {},
   "outputs": [
    {
     "data": {
      "text/html": [
       "<style>#sk-container-id-1 {color: black;}#sk-container-id-1 pre{padding: 0;}#sk-container-id-1 div.sk-toggleable {background-color: white;}#sk-container-id-1 label.sk-toggleable__label {cursor: pointer;display: block;width: 100%;margin-bottom: 0;padding: 0.3em;box-sizing: border-box;text-align: center;}#sk-container-id-1 label.sk-toggleable__label-arrow:before {content: \"▸\";float: left;margin-right: 0.25em;color: #696969;}#sk-container-id-1 label.sk-toggleable__label-arrow:hover:before {color: black;}#sk-container-id-1 div.sk-estimator:hover label.sk-toggleable__label-arrow:before {color: black;}#sk-container-id-1 div.sk-toggleable__content {max-height: 0;max-width: 0;overflow: hidden;text-align: left;background-color: #f0f8ff;}#sk-container-id-1 div.sk-toggleable__content pre {margin: 0.2em;color: black;border-radius: 0.25em;background-color: #f0f8ff;}#sk-container-id-1 input.sk-toggleable__control:checked~div.sk-toggleable__content {max-height: 200px;max-width: 100%;overflow: auto;}#sk-container-id-1 input.sk-toggleable__control:checked~label.sk-toggleable__label-arrow:before {content: \"▾\";}#sk-container-id-1 div.sk-estimator input.sk-toggleable__control:checked~label.sk-toggleable__label {background-color: #d4ebff;}#sk-container-id-1 div.sk-label input.sk-toggleable__control:checked~label.sk-toggleable__label {background-color: #d4ebff;}#sk-container-id-1 input.sk-hidden--visually {border: 0;clip: rect(1px 1px 1px 1px);clip: rect(1px, 1px, 1px, 1px);height: 1px;margin: -1px;overflow: hidden;padding: 0;position: absolute;width: 1px;}#sk-container-id-1 div.sk-estimator {font-family: monospace;background-color: #f0f8ff;border: 1px dotted black;border-radius: 0.25em;box-sizing: border-box;margin-bottom: 0.5em;}#sk-container-id-1 div.sk-estimator:hover {background-color: #d4ebff;}#sk-container-id-1 div.sk-parallel-item::after {content: \"\";width: 100%;border-bottom: 1px solid gray;flex-grow: 1;}#sk-container-id-1 div.sk-label:hover label.sk-toggleable__label {background-color: #d4ebff;}#sk-container-id-1 div.sk-serial::before {content: \"\";position: absolute;border-left: 1px solid gray;box-sizing: border-box;top: 0;bottom: 0;left: 50%;z-index: 0;}#sk-container-id-1 div.sk-serial {display: flex;flex-direction: column;align-items: center;background-color: white;padding-right: 0.2em;padding-left: 0.2em;position: relative;}#sk-container-id-1 div.sk-item {position: relative;z-index: 1;}#sk-container-id-1 div.sk-parallel {display: flex;align-items: stretch;justify-content: center;background-color: white;position: relative;}#sk-container-id-1 div.sk-item::before, #sk-container-id-1 div.sk-parallel-item::before {content: \"\";position: absolute;border-left: 1px solid gray;box-sizing: border-box;top: 0;bottom: 0;left: 50%;z-index: -1;}#sk-container-id-1 div.sk-parallel-item {display: flex;flex-direction: column;z-index: 1;position: relative;background-color: white;}#sk-container-id-1 div.sk-parallel-item:first-child::after {align-self: flex-end;width: 50%;}#sk-container-id-1 div.sk-parallel-item:last-child::after {align-self: flex-start;width: 50%;}#sk-container-id-1 div.sk-parallel-item:only-child::after {width: 0;}#sk-container-id-1 div.sk-dashed-wrapped {border: 1px dashed gray;margin: 0 0.4em 0.5em 0.4em;box-sizing: border-box;padding-bottom: 0.4em;background-color: white;}#sk-container-id-1 div.sk-label label {font-family: monospace;font-weight: bold;display: inline-block;line-height: 1.2em;}#sk-container-id-1 div.sk-label-container {text-align: center;}#sk-container-id-1 div.sk-container {/* jupyter's `normalize.less` sets `[hidden] { display: none; }` but bootstrap.min.css set `[hidden] { display: none !important; }` so we also need the `!important` here to be able to override the default hidden behavior on the sphinx rendered scikit-learn.org. See: https://github.com/scikit-learn/scikit-learn/issues/21755 */display: inline-block !important;position: relative;}#sk-container-id-1 div.sk-text-repr-fallback {display: none;}</style><div id=\"sk-container-id-1\" class=\"sk-top-container\"><div class=\"sk-text-repr-fallback\"><pre>LogisticRegression(max_iter=1000)</pre><b>In a Jupyter environment, please rerun this cell to show the HTML representation or trust the notebook. <br />On GitHub, the HTML representation is unable to render, please try loading this page with nbviewer.org.</b></div><div class=\"sk-container\" hidden><div class=\"sk-item\"><div class=\"sk-estimator sk-toggleable\"><input class=\"sk-toggleable__control sk-hidden--visually\" id=\"sk-estimator-id-1\" type=\"checkbox\" checked><label for=\"sk-estimator-id-1\" class=\"sk-toggleable__label sk-toggleable__label-arrow\">LogisticRegression</label><div class=\"sk-toggleable__content\"><pre>LogisticRegression(max_iter=1000)</pre></div></div></div></div></div>"
      ],
      "text/plain": [
       "LogisticRegression(max_iter=1000)"
      ]
     },
     "execution_count": 10,
     "metadata": {},
     "output_type": "execute_result"
    }
   ],
   "source": [
    "# Create a Logistic Regression model\n",
    "logreg_model = LogisticRegression(max_iter=1000)\n",
    "\n",
    "# Fit the model to the training data\n",
    "logreg_model.fit(X_train, y_train)"
   ]
  },
  {
   "cell_type": "markdown",
   "metadata": {},
   "source": [
    "### Problem 9: Score the Model\n",
    "\n",
    "What is the accuracy of your model?"
   ]
  },
  {
   "cell_type": "code",
   "execution_count": 11,
   "metadata": {},
   "outputs": [
    {
     "name": "stdout",
     "output_type": "stream",
     "text": [
      "Accuracy: 0.89\n",
      "\n",
      "Classification Report:\n",
      "               precision    recall  f1-score   support\n",
      "\n",
      "           0       0.89      1.00      0.94      7303\n",
      "           1       0.00      0.00      0.00       935\n",
      "\n",
      "    accuracy                           0.89      8238\n",
      "   macro avg       0.44      0.50      0.47      8238\n",
      "weighted avg       0.79      0.89      0.83      8238\n",
      "\n",
      "\n",
      "Confusion Matrix:\n",
      " [[7303    0]\n",
      " [ 935    0]]\n"
     ]
    },
    {
     "name": "stderr",
     "output_type": "stream",
     "text": [
      "/Users/harrisalomaa/Library/Python/3.8/lib/python/site-packages/sklearn/metrics/_classification.py:1471: UndefinedMetricWarning: Precision and F-score are ill-defined and being set to 0.0 in labels with no predicted samples. Use `zero_division` parameter to control this behavior.\n",
      "  _warn_prf(average, modifier, msg_start, len(result))\n",
      "/Users/harrisalomaa/Library/Python/3.8/lib/python/site-packages/sklearn/metrics/_classification.py:1471: UndefinedMetricWarning: Precision and F-score are ill-defined and being set to 0.0 in labels with no predicted samples. Use `zero_division` parameter to control this behavior.\n",
      "  _warn_prf(average, modifier, msg_start, len(result))\n",
      "/Users/harrisalomaa/Library/Python/3.8/lib/python/site-packages/sklearn/metrics/_classification.py:1471: UndefinedMetricWarning: Precision and F-score are ill-defined and being set to 0.0 in labels with no predicted samples. Use `zero_division` parameter to control this behavior.\n",
      "  _warn_prf(average, modifier, msg_start, len(result))\n"
     ]
    }
   ],
   "source": [
    "# Make predictions on the test set\n",
    "y_pred = logreg_model.predict(X_test)\n",
    "report = classification_report(y_test, y_pred, zero_division=0)\n",
    "\n",
    "# Evaluate the model\n",
    "accuracy = accuracy_score(y_test, y_pred)\n",
    "report = classification_report(y_test, y_pred)\n",
    "conf_matrix = confusion_matrix(y_test, y_pred)\n",
    "\n",
    "print(f\"Accuracy: {accuracy:.2f}\")\n",
    "print(\"\\nClassification Report:\\n\", report)\n",
    "print(\"\\nConfusion Matrix:\\n\", conf_matrix)"
   ]
  },
  {
   "cell_type": "markdown",
   "metadata": {},
   "source": [
    "### Problem 10: Model Comparisons\n",
    "\n",
    "Now, we aim to compare the performance of the Logistic Regression model to our KNN algorithm, Decision Tree, and SVM models.  Using the default settings for each of the models, fit and score each.  Also, be sure to compare the fit time of each of the models.  Present your findings in a `DataFrame` similar to that below:\n",
    "\n",
    "| Model | Train Time | Train Accuracy | Test Accuracy |\n",
    "| ----- | ---------- | -------------  | -----------   |\n",
    "|     |    |.     |.     |"
   ]
  },
  {
   "cell_type": "code",
   "execution_count": 12,
   "metadata": {},
   "outputs": [],
   "source": [
    "# Define the models\n",
    "models = {\n",
    "    \"Logistic Regression\": LogisticRegression(max_iter=1000),\n",
    "    \"KNN\": KNeighborsClassifier(),\n",
    "    \"Decision Tree\": DecisionTreeClassifier(),\n",
    "    \"SVM\": SVC()\n",
    "}\n"
   ]
  },
  {
   "cell_type": "code",
   "execution_count": 13,
   "metadata": {},
   "outputs": [
    {
     "data": {
      "text/html": [
       "<div>\n",
       "<style scoped>\n",
       "    .dataframe tbody tr th:only-of-type {\n",
       "        vertical-align: middle;\n",
       "    }\n",
       "\n",
       "    .dataframe tbody tr th {\n",
       "        vertical-align: top;\n",
       "    }\n",
       "\n",
       "    .dataframe thead th {\n",
       "        text-align: right;\n",
       "    }\n",
       "</style>\n",
       "<table border=\"1\" class=\"dataframe\">\n",
       "  <thead>\n",
       "    <tr style=\"text-align: right;\">\n",
       "      <th></th>\n",
       "      <th>Model</th>\n",
       "      <th>Train Time</th>\n",
       "      <th>Train Accuracy</th>\n",
       "      <th>Test Accuracy</th>\n",
       "    </tr>\n",
       "  </thead>\n",
       "  <tbody>\n",
       "    <tr>\n",
       "      <th>0</th>\n",
       "      <td>Logistic Regression</td>\n",
       "      <td>0.356949</td>\n",
       "      <td>0.887557</td>\n",
       "      <td>0.886502</td>\n",
       "    </tr>\n",
       "    <tr>\n",
       "      <th>1</th>\n",
       "      <td>KNN</td>\n",
       "      <td>0.004866</td>\n",
       "      <td>0.889742</td>\n",
       "      <td>0.873149</td>\n",
       "    </tr>\n",
       "    <tr>\n",
       "      <th>2</th>\n",
       "      <td>Decision Tree</td>\n",
       "      <td>0.061887</td>\n",
       "      <td>0.916601</td>\n",
       "      <td>0.861860</td>\n",
       "    </tr>\n",
       "    <tr>\n",
       "      <th>3</th>\n",
       "      <td>SVM</td>\n",
       "      <td>23.954964</td>\n",
       "      <td>0.888376</td>\n",
       "      <td>0.886623</td>\n",
       "    </tr>\n",
       "  </tbody>\n",
       "</table>\n",
       "</div>"
      ],
      "text/plain": [
       "                 Model  Train Time  Train Accuracy  Test Accuracy\n",
       "0  Logistic Regression    0.356949        0.887557       0.886502\n",
       "1                  KNN    0.004866        0.889742       0.873149\n",
       "2        Decision Tree    0.061887        0.916601       0.861860\n",
       "3                  SVM   23.954964        0.888376       0.886623"
      ]
     },
     "execution_count": 13,
     "metadata": {},
     "output_type": "execute_result"
    }
   ],
   "source": [
    "def runmodels(Xtr, ytr, Xte, yte):\n",
    "\n",
    "    modresults = []\n",
    "\n",
    "    for model_name, model in models.items():\n",
    "        # Measure training start time\n",
    "        start_time = time.time()\n",
    "        \n",
    "        # Train the model\n",
    "        model.fit(Xtr, ytr)\n",
    "        \n",
    "        # Measure training end time\n",
    "        end_time = time.time()\n",
    "        \n",
    "        # Calculate train time\n",
    "        train_time = end_time - start_time\n",
    "        \n",
    "        # Predict on training and test sets\n",
    "        y_train_pred = model.predict(Xtr)\n",
    "        y_test_pred = model.predict(Xte)\n",
    "        \n",
    "        # Calculate accuracies\n",
    "        train_accuracy = accuracy_score(ytr, y_train_pred)\n",
    "        test_accuracy = accuracy_score(yte, y_test_pred)\n",
    "        \n",
    "        # Append to results\n",
    "        modresults.append({\"Model\": model_name, \n",
    "                        \"Train Time\": train_time, \n",
    "                        \"Train Accuracy\": train_accuracy, \n",
    "                        \"Test Accuracy\": test_accuracy})\n",
    "        \n",
    "    return modresults\n",
    "\n",
    "# Convert results to DataFrame\n",
    "results = runmodels(X_train, y_train, X_test, y_test)\n",
    "results_df = pd.DataFrame(results)\n",
    "results_df"
   ]
  },
  {
   "cell_type": "markdown",
   "metadata": {},
   "source": [
    "Balance Between Training Time and Accuracy: Logistic Regression and SVM, despite their longer training times (especially SVM), provide the best balance between training and test accuracy. This indicates that they generalize well without overfitting.\n",
    "Overfitting in Decision Tree: The high training accuracy but lower test accuracy for the Decision Tree model suggests it might be overfitting the training data.\n",
    "Efficiency of KNN: KNN's short training time is notable, but its slightly lower test accuracy indicates that it might benefit from parameter tuning (like adjusting the number of neighbors)."
   ]
  },
  {
   "cell_type": "markdown",
   "metadata": {},
   "source": [
    "### Problem 11: Improving the Model\n",
    "\n",
    "Now that we have some basic models on the board, we want to try to improve these.  Below, we list a few things to explore in this pursuit.\n",
    "\n",
    "- More feature engineering and exploration.  For example, should we keep the gender feature?  Why or why not?\n",
    "- Hyperparameter tuning and grid search.  All of our models have additional hyperparameters to tune and explore.  For example the number of neighbors in KNN or the maximum depth of a Decision Tree.  \n",
    "- Adjust your performance metric"
   ]
  },
  {
   "cell_type": "code",
   "execution_count": 14,
   "metadata": {},
   "outputs": [],
   "source": [
    "# Create a new features for age and job interaction\n",
    "# List of job category columns\n",
    "job_columns = ['job_blue-collar', 'job_entrepreneur', 'job_housemaid', 'job_management', \n",
    "               'job_retired', 'job_self-employed', 'job_services', 'job_student', 'job_technician', \n",
    "               'job_unemployed', 'job_unknown']\n",
    "\n",
    "# Creating interaction features for each job category\n",
    "for job_col in job_columns:\n",
    "    interaction_col_name = f'age_{job_col}_interaction'\n",
    "    X[interaction_col_name] = X['age'] * X[job_col]"
   ]
  },
  {
   "cell_type": "code",
   "execution_count": 19,
   "metadata": {},
   "outputs": [
    {
     "data": {
      "text/html": [
       "<div>\n",
       "<style scoped>\n",
       "    .dataframe tbody tr th:only-of-type {\n",
       "        vertical-align: middle;\n",
       "    }\n",
       "\n",
       "    .dataframe tbody tr th {\n",
       "        vertical-align: top;\n",
       "    }\n",
       "\n",
       "    .dataframe thead th {\n",
       "        text-align: right;\n",
       "    }\n",
       "</style>\n",
       "<table border=\"1\" class=\"dataframe\">\n",
       "  <thead>\n",
       "    <tr style=\"text-align: right;\">\n",
       "      <th></th>\n",
       "      <th>Model</th>\n",
       "      <th>Train Time</th>\n",
       "      <th>Train Accuracy</th>\n",
       "      <th>Test Accuracy</th>\n",
       "    </tr>\n",
       "  </thead>\n",
       "  <tbody>\n",
       "    <tr>\n",
       "      <th>0</th>\n",
       "      <td>Logistic Regression</td>\n",
       "      <td>0.638171</td>\n",
       "      <td>0.887982</td>\n",
       "      <td>0.886137</td>\n",
       "    </tr>\n",
       "    <tr>\n",
       "      <th>1</th>\n",
       "      <td>KNN</td>\n",
       "      <td>0.007312</td>\n",
       "      <td>0.890531</td>\n",
       "      <td>0.873513</td>\n",
       "    </tr>\n",
       "    <tr>\n",
       "      <th>2</th>\n",
       "      <td>Decision Tree</td>\n",
       "      <td>0.108112</td>\n",
       "      <td>0.916601</td>\n",
       "      <td>0.862709</td>\n",
       "    </tr>\n",
       "    <tr>\n",
       "      <th>3</th>\n",
       "      <td>SVM</td>\n",
       "      <td>28.648827</td>\n",
       "      <td>0.888376</td>\n",
       "      <td>0.886623</td>\n",
       "    </tr>\n",
       "  </tbody>\n",
       "</table>\n",
       "</div>"
      ],
      "text/plain": [
       "                 Model  Train Time  Train Accuracy  Test Accuracy\n",
       "0  Logistic Regression    0.638171        0.887982       0.886137\n",
       "1                  KNN    0.007312        0.890531       0.873513\n",
       "2        Decision Tree    0.108112        0.916601       0.862709\n",
       "3                  SVM   28.648827        0.888376       0.886623"
      ]
     },
     "execution_count": 19,
     "metadata": {},
     "output_type": "execute_result"
    }
   ],
   "source": [
    "X_train_fe, X_test_fe, y_train_fe, y_test_fe = train_test_split(X, y, test_size=0.2, random_state=42)\n",
    "results_fe = runmodels(X_train_fe, y_train_fe, X_test_fe, y_test_fe)\n",
    "results_fe_df = pd.DataFrame(results_fe)\n",
    "results_fe_df"
   ]
  },
  {
   "cell_type": "markdown",
   "metadata": {},
   "source": [
    "Analysis and Next Steps:\n",
    "\n",
    "The Logistic Regression model's performance remained stable with the new features, but the training time slightly increased. This suggests that the new features didn't significantly impact the model's ability to generalize.\n",
    "\n",
    "The KNN model shows a minor improvement in both training and test accuracy, indicating that the new features might be slightly beneficial for this model.\n",
    "\n",
    "The Decision Tree model's test accuracy shows a slight improvement. However, it still appears to be overfitting (high training accuracy compared to test accuracy).\n",
    "\n",
    "The SVM model's training time increased notably with no improvement in accuracy. This might be due to the increased complexity of the data with new features. SVMs are computationally intensive, and more features can lead to longer training times."
   ]
  },
  {
   "cell_type": "markdown",
   "metadata": {},
   "source": [
    "Let's work KNN hyperparameters"
   ]
  },
  {
   "cell_type": "code",
   "execution_count": 21,
   "metadata": {},
   "outputs": [
    {
     "name": "stdout",
     "output_type": "stream",
     "text": [
      "Best parameters for KNN: {'metric': 'euclidean', 'n_neighbors': 15, 'weights': 'uniform'}\n"
     ]
    }
   ],
   "source": [
    "# Define the parameter grid\n",
    "param_grid_knn = {\n",
    "    'n_neighbors': [3, 5, 7, 10, 15],\n",
    "    'metric': ['euclidean', 'manhattan'],\n",
    "    'weights': ['uniform', 'distance']\n",
    "}\n",
    "\n",
    "# Create KNN model\n",
    "knn = KNeighborsClassifier()\n",
    "\n",
    "# Set up GridSearchCV\n",
    "grid_search_knn = GridSearchCV(knn, param_grid_knn, cv=5, scoring='accuracy', n_jobs=-1)\n",
    "\n",
    "# Fit grid search\n",
    "grid_search_knn.fit(X_train_fe, y_train_fe)\n",
    "\n",
    "# Best parameters\n",
    "print(\"Best parameters for KNN:\", grid_search_knn.best_params_)"
   ]
  },
  {
   "cell_type": "code",
   "execution_count": 22,
   "metadata": {},
   "outputs": [
    {
     "name": "stdout",
     "output_type": "stream",
     "text": [
      "Test Accuracy for KNN: 0.88\n"
     ]
    }
   ],
   "source": [
    "# Best model\n",
    "best_knn = grid_search_knn.best_estimator_\n",
    "\n",
    "# Predict on test set\n",
    "y_test_pred_knn = best_knn.predict(X_test_fe)\n",
    "\n",
    "# Calculate accuracy\n",
    "test_accuracy_knn = accuracy_score(y_test_fe, y_test_pred_knn)\n",
    "\n",
    "print(f\"Test Accuracy for KNN: {test_accuracy_knn:.2f}\")\n"
   ]
  },
  {
   "cell_type": "markdown",
   "metadata": {},
   "source": [
    "Improved Performance: The increase in the number of neighbors (n_neighbors: 15) compared to the default value (usually 5) suggests that the model benefits from considering more neighbors to make a prediction. This can help in smoothing the decision boundaries and potentially reducing overfitting.\n",
    "\n",
    "Distance Metric: The fact that 'Euclidean' came out as the best metric suggests that the standard Euclidean distance is effective for your data in measuring similarity between instances.\n",
    "\n",
    "Uniform Weights: The choice of 'uniform' weights indicates that all neighbors contribute equally to the classification of a new point. This approach works well when the density of the data is relatively uniform. If the data has varying densities, sometimes 'distance' weighting might perform better."
   ]
  },
  {
   "cell_type": "code",
   "execution_count": 23,
   "metadata": {},
   "outputs": [
    {
     "name": "stdout",
     "output_type": "stream",
     "text": [
      "Best parameters for Decision Tree: {'max_depth': 10, 'max_features': 'sqrt', 'min_impurity_decrease': 0.1, 'min_samples_leaf': 1, 'min_samples_split': 2}\n"
     ]
    }
   ],
   "source": [
    "# Define the parameter grid\n",
    "param_grid_dt = {\n",
    "    'max_depth': [10, 15, 20, None],\n",
    "    'min_samples_split': [2, 10, 20],\n",
    "    'min_samples_leaf': [1, 5, 10],\n",
    "    'max_features': ['sqrt', 'log2', None],\n",
    "    'min_impurity_decrease': [0.0, 0.1, 0.2]\n",
    "}\n",
    "\n",
    "# Create a Decision Tree Classifier\n",
    "dt = DecisionTreeClassifier()\n",
    "\n",
    "# Set up GridSearchCV\n",
    "grid_search_dt = GridSearchCV(dt, param_grid_dt, cv=5, scoring='accuracy', n_jobs=-1)\n",
    "\n",
    "# Fit grid search\n",
    "grid_search_dt.fit(X_train_fe, y_train_fe)\n",
    "\n",
    "# Best parameters\n",
    "print(\"Best parameters for Decision Tree:\", grid_search_dt.best_params_)"
   ]
  },
  {
   "cell_type": "code",
   "execution_count": 24,
   "metadata": {},
   "outputs": [
    {
     "name": "stdout",
     "output_type": "stream",
     "text": [
      "Test Accuracy for Random Forest: 0.87\n"
     ]
    }
   ],
   "source": [
    "from sklearn.ensemble import RandomForestClassifier\n",
    "\n",
    "# Create a Random Forest Classifier\n",
    "rf = RandomForestClassifier(n_estimators=100, random_state=42)\n",
    "\n",
    "# Train the model\n",
    "rf.fit(X_train_fe, y_train_fe)\n",
    "\n",
    "# Predict on the test set\n",
    "y_test_pred_rf = rf.predict(X_test_fe)\n",
    "\n",
    "# Calculate accuracy\n",
    "test_accuracy_rf = accuracy_score(y_test_fe, y_test_pred_rf)\n",
    "\n",
    "print(f\"Test Accuracy for Random Forest: {test_accuracy_rf:.2f}\")\n"
   ]
  },
  {
   "cell_type": "code",
   "execution_count": 25,
   "metadata": {},
   "outputs": [
    {
     "name": "stdout",
     "output_type": "stream",
     "text": [
      "Test Accuracy for Decision Tree: 0.89\n"
     ]
    }
   ],
   "source": [
    "# re-train Decision Tree and evaluate its performance on the test se\n",
    "\n",
    "dt_best = DecisionTreeClassifier(max_depth=10, max_features='sqrt', min_impurity_decrease=0.1, \n",
    "                                 min_samples_leaf=1, min_samples_split=2)\n",
    "dt_best.fit(X_train_fe, y_train_fe)\n",
    "y_test_pred_dt = dt_best.predict(X_test_fe)\n",
    "test_accuracy_dt = accuracy_score(y_test_fe, y_test_pred_dt)\n",
    "print(f\"Test Accuracy for Decision Tree: {test_accuracy_dt:.2f}\")\n"
   ]
  },
  {
   "cell_type": "code",
   "execution_count": 30,
   "metadata": {},
   "outputs": [
    {
     "name": "stdout",
     "output_type": "stream",
     "text": [
      "Test Accuracy for LogisticRegression: 0.89\n"
     ]
    }
   ],
   "source": [
    "from sklearn.linear_model import LogisticRegression\n",
    "from sklearn.metrics import accuracy_score\n",
    "\n",
    "# Assuming Logistic Regression model is defined as logreg_model\n",
    "logreg_model = LogisticRegression(max_iter=1000)  # Adjust max_iter if needed\n",
    "logreg_model.fit(X_train_fe, y_train_fe)\n",
    "\n",
    "# Make predictions on the test set\n",
    "y_test_pred_lr = logreg_model.predict(X_test_fe)\n",
    "\n",
    "# Calculate test accuracy\n",
    "test_accuracy_lr = accuracy_score(y_test_fe, y_test_pred_lr)\n",
    "print(f\"Test Accuracy for LogisticRegression: {test_accuracy_lr:.2f}\")\n"
   ]
  },
  {
   "cell_type": "code",
   "execution_count": 31,
   "metadata": {},
   "outputs": [
    {
     "name": "stdout",
     "output_type": "stream",
     "text": [
      "Test Accuracy for SVC: 0.89\n"
     ]
    }
   ],
   "source": [
    "from sklearn.svm import SVC\n",
    "\n",
    "# Assuming SVM model is defined as svm_model\n",
    "svm_model = SVC()\n",
    "svm_model.fit(X_train_fe, y_train_fe)\n",
    "\n",
    "# Make predictions on the test set\n",
    "y_test_pred_svm = svm_model.predict(X_test_fe)\n",
    "\n",
    "# Calculate test accuracy\n",
    "test_accuracy_svm = accuracy_score(y_test_fe, y_test_pred_svm)\n",
    "print(f\"Test Accuracy for SVC: {test_accuracy_svm:.2f}\")\n"
   ]
  },
  {
   "cell_type": "markdown",
   "metadata": {},
   "source": [
    "KNN: Improved slightly with hyperparameter tuning. The test accuracy increased modestly, indicating that the adjustments in the number of neighbors and distance metric were beneficial.\n",
    "\n",
    "Logistic Regression and SVM: Both now show strong performance with a test accuracy of 0.89. This indicates that these models not only provide a good balance between training time and accuracy but are also highly effective with the current feature set. Their performance is notable given that they are achieving the same level of accuracy as the more complex models.\n",
    "\n",
    "Decision Tree: Shows a significant improvement post-tuning, now achieving comparable performance to Logistic Regression and SVM. This improvement suggests that the hyperparameter tuning effectively addressed overfitting issues, making the Decision Tree a strong contender.\n",
    "\n",
    "Random Forest: Although it shows slightly lower performance compared to the tuned Decision Tree, Logistic Regression, and SVM, with a test accuracy of 0.87, it remains a robust model. Random Forests are known for their generalization capabilities, which can be advantageous in different or more complex datasets.\n",
    "\n",
    "The choice between Logistic Regression, SVM, and Decision Tree can now be based more on factors like model interpretability, training time, and how they align with your specific application requirements. All three models are performing similarly in terms of accuracy.\n",
    "\n",
    "Despite the simplicity of Logistic Regression, it performs on par with more complex models like SVM and Decision Tree. This underscores the effectiveness of feature engineering and the right choice of model for the specific characteristics of this dataset."
   ]
  },
  {
   "cell_type": "code",
   "execution_count": 32,
   "metadata": {},
   "outputs": [
    {
     "data": {
      "image/png": "[encoded data removed]",
      "text/plain": [
       "<Figure size 640x480 with 1 Axes>"
      ]
     },
     "metadata": {},
     "output_type": "display_data"
    }
   ],
   "source": [
    "\n",
    "all_results_df = pd.DataFrame({\n",
    "     'Model': ['Logistic Regression', 'KNN', 'Decision Tree', 'SVM', 'Random Forest'],\n",
    "     'Test Accuracy': [test_accuracy_lr, test_accuracy_knn, test_accuracy_dt, test_accuracy_svm, test_accuracy_rf]\n",
    "})\n",
    "\n",
    "sns.barplot(x='Test Accuracy', y='Model', data=results_df)\n",
    "plt.title('Comparison of Model Test Accuracies')\n",
    "plt.xlabel('Test Accuracy')\n",
    "plt.ylabel('Model')\n",
    "plt.show()"
   ]
  },
  {
   "cell_type": "code",
   "execution_count": 33,
   "metadata": {},
   "outputs": [
    {
     "data": {
      "image/png": "[encoded data removed]",
      "text/plain": [
       "<Figure size 800x600 with 2 Axes>"
      ]
     },
     "metadata": {},
     "output_type": "display_data"
    }
   ],
   "source": [
    "cm = confusion_matrix(y_test_fe, y_test_pred_dt)\n",
    "\n",
    "# Plotting the confusion matrix\n",
    "plt.figure(figsize=(8, 6))\n",
    "sns.heatmap(cm, annot=True, fmt='d', cmap='Blues')\n",
    "plt.title('Confusion Matrix for Decision Tree')\n",
    "plt.xlabel('Predicted Label')\n",
    "plt.ylabel('True Label')\n",
    "plt.show()"
   ]
  },
  {
   "cell_type": "markdown",
   "metadata": {},
   "source": [
    "The confusion matrix for the Decision Tree model tells the following:\n",
    "\n",
    "True Negative (TN): 7303 observations were correctly predicted as class '0' \n",
    "False Positive (FP): 0 observations were incorrectly predicted as class '1' \n",
    "True Positive (TP): 0 observations were correctly predicted as class '1'.\n",
    "False Negative (FN): 935 observations were incorrectly predicted as class '0' when they are actually class '1'.\n",
    "Here's what we can infer from this confusion matrix:\n",
    "\n",
    "High Specificity: The model has predicted the negative class (class '0') with high accuracy. It didn't falsely label any negative instances as positive, which is evident from the zero false positives.\n",
    "\n",
    "Poor Sensitivity: The model failed to correctly predict any of the positive class (class '1'). This is a clear indication of a model that is biased towards the negative class, resulting in a very low sensitivity (recall) for the positive class.\n",
    "\n",
    "Imbalanced Prediction: The model seems to be biased towards predicting the majority class (presumably class '0'). This could be a result of an imbalanced dataset where the negative class significantly outnumbers the positive class.\n",
    "\n",
    "Lack of Positive Predictions: The fact that there are zero true positives and zero false positives suggests that the model might have a threshold issue or it is too conservative in predicting class '1'. The model might require threshold tuning or rebalancing of the dataset.\n",
    "\n",
    "Potential Overfitting: While the accuracy might seem high because the majority class is being predicted almost perfectly, the model is not useful for its inability to predict the minority class. This might be a case of overfitting to the majority class.\n",
    "\n",
    "Business Impact: If the goal is to identify potential subscribers (class '1'), the model is not serving its purpose. All potential subscribers are being missed (935 false negatives), which could represent a significant loss of opportunity."
   ]
  },
  {
   "cell_type": "code",
   "execution_count": 35,
   "metadata": {},
   "outputs": [
    {
     "data": {
      "image/png": "[encoded data removed]",
      "text/plain": [
       "<Figure size 800x600 with 2 Axes>"
      ]
     },
     "metadata": {},
     "output_type": "display_data"
    }
   ],
   "source": [
    "cm = confusion_matrix(y_test_fe, y_test_pred_lr)\n",
    "\n",
    "# Plotting the confusion matrix\n",
    "plt.figure(figsize=(8, 6))\n",
    "sns.heatmap(cm, annot=True, fmt='d', cmap='Blues')\n",
    "plt.title('Confusion Matrix for Logistic Regression')\n",
    "plt.xlabel('Predicted Label')\n",
    "plt.ylabel('True Label')\n",
    "plt.show()"
   ]
  },
  {
   "cell_type": "markdown",
   "metadata": {},
   "source": [
    "The confusion matrix for Logistic Regression shows the following:\n",
    "\n",
    "True Negative (TN): 7285 observations where the model correctly predicted the negative class.\n",
    "False Positive (FP): 18 observations where the model incorrectly predicted the positive class.\n",
    "True Positive (TP): 15 observations where the model correctly predicted the positive class.\n",
    "False Negative (FN): 920 observations where the model incorrectly predicted the negative class.\n",
    "Here are some key points to interpret from this matrix:\n",
    "\n",
    "General Performance: The model is predicting the majority of the negative class (class '0') correctly but is struggling with the positive class (class '1'), similar to the Decision Tree model.\n",
    "\n",
    "Bias Towards Negative Class: There's a strong bias towards predicting the negative class, as indicated by the high number of true negatives compared to true positives.\n",
    "\n",
    "Few Positive Predictions: The model made very few positive predictions (only 15 true positives), which suggests that it may have a conservative threshold or it may not be picking up the patterns in the data that lead to positive outcomes.\n",
    "\n",
    "False Negatives: There are a significant number of false negatives, meaning that many of the positive instances were missed by the model. This could be critical if the cost of missing a positive case is high (e.g., a missed opportunity for a term deposit subscription).\n",
    "\n",
    "Model Sensitivity: The sensitivity (or recall) for the positive class is low, indicating the model's limited ability to detect the positive class instances.\n",
    "\n",
    "Precision for Positive Class: Although the model has predicted few positives, the precision (the proportion of positive identifications that were actually correct) is low because the false positives are close to the true positives in number."
   ]
  },
  {
   "cell_type": "code",
   "execution_count": 37,
   "metadata": {},
   "outputs": [
    {
     "data": {
      "image/png": "[encoded data removed]",
      "text/plain": [
       "<Figure size 800x600 with 2 Axes>"
      ]
     },
     "metadata": {},
     "output_type": "display_data"
    }
   ],
   "source": [
    "cm = confusion_matrix(y_test_fe, y_test_pred_knn)\n",
    "\n",
    "# Plotting the confusion matrix\n",
    "plt.figure(figsize=(8, 6))\n",
    "sns.heatmap(cm, annot=True, fmt='d', cmap='Blues')\n",
    "plt.title('Confusion Matrix for KNN')\n",
    "plt.xlabel('Predicted Label')\n",
    "plt.ylabel('True Label')\n",
    "plt.show()"
   ]
  },
  {
   "cell_type": "markdown",
   "metadata": {},
   "source": [
    "The confusion matrix for the K-Nearest Neighbors model shows the following:\n",
    "\n",
    "True Negative (TN): 7251 observations where the model correctly predicted the negative class.\n",
    "False Positive (FP): 52 observations where the model incorrectly predicted the positive class.\n",
    "True Positive (TP): 37 observations where the model correctly predicted the positive class.\n",
    "False Negative (FN): 898 observations where the model incorrectly predicted the negative class.\n",
    "Here's what these results indicate:\n",
    "\n",
    "Bias Towards Negative Class: Similar to the Decision Tree and Logistic Regression models, the KNN model is also biased towards predicting the majority class, indicated by the high number of true negatives and the high number of false negatives.\n",
    "\n",
    "Low Sensitivity: The model has a low sensitivity (or recall) for the positive class, as it only correctly identified 37 out of the 935 actual positives (TP + FN).\n",
    "\n",
    "Moderate Precision: While the model has a higher number of true positives than the previous models, the precision (TP / (TP + FP)) is still moderate due to the 52 false positives.\n",
    "\n",
    "False Negatives: A significant number of positive instances were missed by the model (898 false negatives), which could be critical depending on the context. For instance, if this is a marketing campaign, these missed opportunities could represent potential revenue loss.\n",
    "\n",
    "Model Evaluation: This model's performance suggests it might benefit from:\n",
    "\n",
    "Addressing class imbalance (if present).\n",
    "Revisiting the chosen value for n_neighbors and considering weight adjustments.\n",
    "Potentially including more informative features or feature engineering to better capture distinctions between classes.\n",
    "Comparison to Other Models: When comparing this KNN model to the previously discussed Logistic Regression and Decision Tree models, it is underperforming in terms of correctly identifying the positive class. All models are struggling with the positive class, but the KNN model is not as extreme in its predictions towards the negative class."
   ]
  },
  {
   "cell_type": "code",
   "execution_count": 39,
   "metadata": {},
   "outputs": [
    {
     "data": {
      "image/png": "[encoded data removed]",
      "text/plain": [
       "<Figure size 800x600 with 2 Axes>"
      ]
     },
     "metadata": {},
     "output_type": "display_data"
    }
   ],
   "source": [
    "cm = confusion_matrix(y_test_fe, y_test_pred_svm)\n",
    "\n",
    "# Plotting the confusion matrix\n",
    "plt.figure(figsize=(8, 6))\n",
    "sns.heatmap(cm, annot=True, fmt='d', cmap='Blues')\n",
    "plt.title('Confusion Matrix for SVM')\n",
    "plt.xlabel('Predicted Label')\n",
    "plt.ylabel('True Label')\n",
    "plt.show()"
   ]
  },
  {
   "cell_type": "markdown",
   "metadata": {},
   "source": [
    "The confusion matrix for the SVM model shows the following:\n",
    "\n",
    "True Negative (TN): 7295 observations were correctly predicted as class '0' (e.g., the client did not subscribe to a term deposit).\n",
    "False Positive (FP): 8 observations were incorrectly predicted as class '1' (e.g., the client subscribed to a term deposit) when they are actually class '0'.\n",
    "True Positive (TP): 9 observations were correctly predicted as class '1'.\n",
    "False Negative (FN): 926 observations were incorrectly predicted as class '0' when they are actually class '1'.\n",
    "Here's what we can deduce from this matrix:\n",
    "\n",
    "General Performance: Similar to the previous models, the SVM model is highly accurate in predicting the negative class but performs poorly on the positive class.\n",
    "\n",
    "Bias Towards Negative Class: There's a considerable bias towards predicting the majority class, which is likely class '0', as indicated by the high number of true negatives and false negatives.\n",
    "\n",
    "Challenges with Positive Class: The model managed to predict a very small number of positive instances correctly (9 true positives), but it also missed many (926 false negatives). This suggests that the SVM model has difficulty identifying the positive class, which is a critical issue if the goal is to predict class '1' accurately.\n",
    "\n",
    "Low Sensitivity: The sensitivity (or recall) for the positive class is very low, indicating the model's limited ability to detect the positive class instances.\n",
    "\n",
    "Moderate Precision for Positive Class: The precision (the proportion of positive identifications that were actually correct) is higher for SVM than for the Decision Tree and KNN models, but the low number of true positives still indicates a performance issue."
   ]
  },
  {
   "cell_type": "code",
   "execution_count": 40,
   "metadata": {},
   "outputs": [
    {
     "data": {
      "image/png": "[encoded data removed]",
      "text/plain": [
       "<Figure size 800x600 with 2 Axes>"
      ]
     },
     "metadata": {},
     "output_type": "display_data"
    }
   ],
   "source": [
    "cm = confusion_matrix(y_test_fe, y_test_pred_rf)\n",
    "\n",
    "# Plotting the confusion matrix\n",
    "plt.figure(figsize=(8, 6))\n",
    "sns.heatmap(cm, annot=True, fmt='d', cmap='Blues')\n",
    "plt.title('Confusion Matrix for RandomForest')\n",
    "plt.xlabel('Predicted Label')\n",
    "plt.ylabel('True Label')\n",
    "plt.show()"
   ]
  },
  {
   "cell_type": "markdown",
   "metadata": {},
   "source": [
    "The confusion matrix for the RandomForest classifier shows the following details:\n",
    "\n",
    "True Negative (TN): 7061 observations where the model correctly predicted the negative class ('0').\n",
    "False Positive (FP): 242 observations where the model incorrectly predicted the positive class ('1').\n",
    "True Positive (TP): 84 observations where the model correctly predicted the positive class ('1').\n",
    "False Negative (FN): 851 observations where the model incorrectly predicted the negative class ('0').\n",
    "\n",
    "General Performance: The RandomForest model has a high number of true negatives, which indicates good performance on the negative class.\n",
    "\n",
    "Positive Class Predictions: Unlike the Decision Tree, Logistic Regression, and SVM models, the RandomForest has managed to correctly predict more positive instances (84 true positives). This suggests an improved ability to detect the positive class, which is a step forward.\n",
    "\n",
    "False Positives and Negatives: There are still a considerable number of false negatives, indicating missed opportunities to identify the positive class. The false positives have increased compared to the other models, which might suggest a slight trade-off between sensitivity and specificity.\n",
    "\n",
    "Sensitivity and Specificity: The model has achieved better sensitivity (ability to detect true positives) than the previous models but at the cost of more false positives, which reduces its specificity (ability to detect true negatives).\n",
    "\n",
    "Model Balance: The RandomForest model seems to be more balanced in terms of recognizing both classes compared to the other models, although there's still room for improvement, especially in reducing false negatives."
   ]
  },
  {
   "cell_type": "markdown",
   "metadata": {},
   "source": [
    "Let's improve RandomForest by tuning hyperparams and work on class imbalance"
   ]
  },
  {
   "cell_type": "code",
   "execution_count": 44,
   "metadata": {},
   "outputs": [
    {
     "name": "stdout",
     "output_type": "stream",
     "text": [
      "Best parameters for RandomForest: {'n_estimators': 100, 'min_samples_split': 5, 'min_samples_leaf': 4, 'max_depth': 30, 'class_weight': None, 'bootstrap': True}\n",
      "Test Accuracy for RandomForest: 0.89\n"
     ]
    }
   ],
   "source": [
    "from sklearn.ensemble import RandomForestClassifier\n",
    "from sklearn.model_selection import RandomizedSearchCV\n",
    "from sklearn.metrics import accuracy_score\n",
    "\n",
    "# Define a parameter distribution to sample from\n",
    "param_dist_rf = {\n",
    "    'n_estimators': [100, 200, 300],\n",
    "    'max_depth': [10, 20, 30, None],\n",
    "    'min_samples_split': [2, 5, 10],\n",
    "    'min_samples_leaf': [1, 2, 4],\n",
    "    'bootstrap': [True, False],\n",
    "    'class_weight': [None, 'balanced']\n",
    "}\n",
    "\n",
    "# Initialize the RandomForestClassifier\n",
    "rf = RandomForestClassifier(n_estimators=100, \n",
    "                             class_weight='balanced',  # Automatically adjust weights inversely proportional to class frequencies\n",
    "                             max_depth=30,             # Use the tuned hyperparameters\n",
    "                             min_samples_split=5,\n",
    "                             min_samples_leaf=4,\n",
    "                             bootstrap=True,\n",
    "                             random_state=42)\n",
    "\n",
    "# Initialize the RandomizedSearchCV object with n_iter set to a number of your choice\n",
    "random_search_rf = RandomizedSearchCV(estimator=rf, param_distributions=param_dist_rf, \n",
    "                                      n_iter=10, cv=5, n_jobs=-1, scoring='accuracy', random_state=42)\n",
    "\n",
    "# Fit the random search to the data\n",
    "random_search_rf.fit(X_train_fe, y_train_fe)\n",
    "\n",
    "# Retrieve the best parameters and model\n",
    "best_rf = random_search_rf.best_estimator_\n",
    "best_params = random_search_rf.best_params_\n",
    "print(\"Best parameters for RandomForest:\", best_params)\n",
    "\n",
    "# Predict on the test set using the best parameters\n",
    "y_test_pred_rf = best_rf.predict(X_test_fe)\n",
    "\n",
    "# Calculate accuracy\n",
    "test_accuracy_rf = accuracy_score(y_test_fe, y_test_pred_rf)\n",
    "print(f\"Test Accuracy for RandomForest: {test_accuracy_rf:.2f}\")\n"
   ]
  },
  {
   "cell_type": "code",
   "execution_count": 45,
   "metadata": {},
   "outputs": [
    {
     "data": {
      "image/png": "[encoded data removed]",
      "text/plain": [
       "<Figure size 800x600 with 2 Axes>"
      ]
     },
     "metadata": {},
     "output_type": "display_data"
    }
   ],
   "source": [
    "cm = confusion_matrix(y_test_fe, y_test_pred_rf)\n",
    "\n",
    "# Plotting the confusion matrix\n",
    "plt.figure(figsize=(8, 6))\n",
    "sns.heatmap(cm, annot=True, fmt='d', cmap='Blues')\n",
    "plt.title('Confusion Matrix for RandomForest')\n",
    "plt.xlabel('Predicted Label')\n",
    "plt.ylabel('True Label')\n",
    "plt.show()"
   ]
  },
  {
   "cell_type": "markdown",
   "metadata": {},
   "source": [
    "##### Questions"
   ]
  },
  {
   "cell_type": "code",
   "execution_count": 47,
   "metadata": {},
   "outputs": [
    {
     "name": "stdout",
     "output_type": "stream",
     "text": [
      "[[2731 4572]\n",
      " [ 192  743]]\n"
     ]
    }
   ],
   "source": [
    "from sklearn.metrics import accuracy_score\n",
    "\n",
    "# Get the probability predictions for the positive class\n",
    "rf.fit(X_train_fe, y_train_fe)\n",
    "probabilities = rf.predict_proba(X_test_fe)[:, 1]\n",
    "\n",
    "# Set a custom threshold for the positive class\n",
    "threshold = 0.3  # This is just an example value; you would tune this based on your dataset\n",
    "\n",
    "# Apply the threshold to get the new predictions\n",
    "y_pred_rf_custom_threshold = (probabilities >= threshold).astype(int)\n",
    "\n",
    "# Evaluate the new predictions\n",
    "new_conf_matrix = confusion_matrix(y_test_fe, y_pred_rf_custom_threshold)\n",
    "print(new_conf_matrix)\n"
   ]
  },
  {
   "cell_type": "markdown",
   "metadata": {},
   "source": [
    "The updated confusion matrix with the new threshold for the RandomForest classifier shows:\n",
    "\n",
    "True Negative (TN): 2731 observations were correctly predicted as class '0'.\n",
    "False Positive (FP): 4572 observations were incorrectly predicted as class '1'.\n",
    "True Positive (TP): 743 observations were correctly predicted as class '1'.\n",
    "False Negative (FN): 192 observations were incorrectly predicted as class '0'.\n",
    "Here are the insights from this matrix:\n",
    "\n",
    "Improved Positive Predictions: The number of true positives has increased significantly to 743, indicating that lowering the threshold has helped the model to identify more of the positive class correctly.\n",
    "\n",
    "Increased False Positives: However, this comes at the expense of a substantial increase in false positives, meaning that many negative class instances were incorrectly identified as positive.\n",
    "\n",
    "Reduced False Negatives: The number of false negatives has decreased to 192, indicating that fewer positive instances were missed by the model.\n",
    "\n",
    "Lowered True Negatives: The true negatives have decreased, which suggests that the model is now more prone to classifying instances as the positive class.\n",
    "\n",
    "Analysis:\n",
    "\n",
    "By lowering the threshold, made the model more sensitive to the positive class, which has successfully reduced the number of false negatives (i.e., improved recall for the positive class). However, the trade-off is that specificity has decreased as evidenced by the large increase in false positives.\n",
    "\n",
    "This adjustment has shifted the model from being conservative (predicting negatives) to being liberal (predicting positives). "
   ]
  },
  {
   "cell_type": "code",
   "execution_count": 48,
   "metadata": {},
   "outputs": [
    {
     "data": {
      "image/png": "[encoded data removed]",
      "text/plain": [
       "<Figure size 800x600 with 1 Axes>"
      ]
     },
     "metadata": {},
     "output_type": "display_data"
    }
   ],
   "source": [
    "from sklearn.metrics import precision_recall_curve\n",
    "import matplotlib.pyplot as plt\n",
    "\n",
    "# Assuming your RandomForest model is named 'rfc'\n",
    "# and you have a test set 'X_test_fe' and true labels 'y_test_fe'\n",
    "\n",
    "# Get the probability predictions for the positive class (class '1')\n",
    "probabilities = rf.predict_proba(X_test_fe)[:, 1]\n",
    "\n",
    "# Calculate precision and recall for various thresholds\n",
    "precision, recall, thresholds = precision_recall_curve(y_test_fe, probabilities)\n",
    "\n",
    "# Plot the Precision-Recall Curve\n",
    "plt.figure(figsize=(8, 6))\n",
    "plt.plot(recall, precision, marker='.', label='RandomForest')\n",
    "plt.xlabel('Recall')\n",
    "plt.ylabel('Precision')\n",
    "plt.title('Precision-Recall Curve')\n",
    "plt.legend()\n",
    "\n",
    "# Add a threshold line or marker if desired\n",
    "# Choose a threshold value that you want to highlight on the curve\n",
    "threshold_to_plot = 0.3\n",
    "# Find the closest threshold index\n",
    "closest_threshold_index = (np.abs(thresholds - threshold_to_plot)).argmin()\n",
    "plt.plot(recall[closest_threshold_index], precision[closest_threshold_index], 'ro', label='Threshold')\n",
    "\n",
    "# Show the plot\n",
    "plt.show()\n"
   ]
  },
  {
   "cell_type": "markdown",
   "metadata": {},
   "source": [
    "Initial High Precision: At the leftmost part of the curve (near zero recall), the precision starts high. This indicates that when the model is very confident about its positive predictions (at very low thresholds), it is quite precise, but it doesn't capture many of the actual positive instances (low recall).\n",
    "\n",
    "Precision Decline: As recall increases (moving right along the x-axis), precision declines. This is typical, as trying to capture more of the positive instances (higher recall) often leads to more false positives, decreasing precision.\n",
    "\n",
    "Trade-off Point: The red dot indicates the trade-off you have selected with your chosen threshold. Beyond this point, you gain more recall (detecting more true positives), but precision drops off sharply.\n",
    "\n",
    "Curve Shape: The steep drop in precision after a certain recall level suggests that it becomes increasingly challenging for the model to maintain precision as it tries to capture more positive instances."
   ]
  }
 ],
 "metadata": {
  "kernelspec": {
   "display_name": "Python 3",
   "language": "python",
   "name": "python3"
  },
  "language_info": {
   "codemirror_mode": {
    "name": "ipython",
    "version": 3
   },
   "file_extension": ".py",
   "mimetype": "text/x-python",
   "name": "python",
   "nbconvert_exporter": "python",
   "pygments_lexer": "ipython3",
   "version": "3.8.2"
  },
  "widgets": {
   "application/vnd.jupyter.widget-state+json": {
    "state": {},
    "version_major": 2,
    "version_minor": 0
   }
  }
 },
 "nbformat": 4,
 "nbformat_minor": 4
}
